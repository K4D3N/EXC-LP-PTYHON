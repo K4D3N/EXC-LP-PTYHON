{
  "nbformat": 4,
  "nbformat_minor": 0,
  "metadata": {
    "colab": {
      "provenance": [],
      "authorship_tag": "ABX9TyPoYqaqUo4HwSujV1Tp8obD",
      "include_colab_link": true
    },
    "kernelspec": {
      "name": "python3",
      "display_name": "Python 3"
    },
    "language_info": {
      "name": "python"
    }
  },
  "cells": [
    {
      "cell_type": "markdown",
      "metadata": {
        "id": "view-in-github",
        "colab_type": "text"
      },
      "source": [
        "<a href=\"https://colab.research.google.com/github/K4D3N/EXC-LP-PTYHON/blob/main/Atividade_Python_LP.ipynb\" target=\"_parent\"><img src=\"https://colab.research.google.com/assets/colab-badge.svg\" alt=\"Open In Colab\"/></a>"
      ]
    },
    {
      "cell_type": "markdown",
      "source": [
        "# **Atividade_python-nilo_04-10**\n",
        "\n",
        "\n",
        "Escreva um programa que calcule o preço a pagar pelo fornecimento de energia elétrica. Pergunte a quantidade de kWh consumida e o tipo de instalação: R para residências, I para indústrias e C para comércios. Calcule o preço a pagar de acordo com a tabela a seguir."
      ],
      "metadata": {
        "id": "ZlVo9m3__dsG"
      }
    },
    {
      "cell_type": "code",
      "source": [
        "qtd_kwh = float(input('Informe a quantidade de kWh consumida:\\n' ))\n",
        "\n",
        "\n",
        "tipo_instalacao = input('Escolha a opção conforme o tipo de Instalação:\\nR - Residências\\nI - Indústria\\nC - Comércio:\\n' )\n",
        "\n",
        "\n",
        "\n",
        "if tipo_instalacao == 'R' or 'r':\n",
        "  if qtd_kwh < 200:\n",
        "    Valor_R = qtd_kwh*0.32722\n",
        "    print('O valor à pagar este mês será de R${:.2f}'.format(Valor_R))\n",
        "  if qtd_kwh >= 200:\n",
        "    Valor_R = qtd_kwh*0.54537\n",
        "    print('O valor à pagar este mês será de R${:.2f}'.format(Valor_R))\n",
        "elif tipo_instalacao == 'I' or 'i':\n",
        "  if qtd_kwh < 1200:\n",
        "    Valor_R = qtd_kwh*0.13861\n",
        "    print('O valor à pagar este mês será de R${:.2f}'.format(Valor_I))\n",
        "  if qtd_kwh >= 1200:\n",
        "    Valor_R = qtd_kwh*0.211241\n",
        "    print('O valor à pagar este mês será de R${:.2f}'.format(Valor_I))\n",
        "elif tipo_instalacao == 'C' or 'c':\n",
        "  if qtd_kwh < 350:\n",
        "    Valor_R = qtd_kwh*0.13344\n",
        "    print('O valor à pagar este mês será de R${:.2f}'.format(Valor_C))\n",
        "  if qtd_kwh >= 350:\n",
        "    Valor_R = qtd_kwh*0.21452\n",
        "    print('O valor à pagar este mês será de R${:.2f}'.format(Valor_C))\n",
        "else:\n",
        "   print('Digite uma opção Válida!\\nR - Residências\\nI - Indústria\\nC - Comércio')\n",
        "\n",
        "\n",
        "\n"
      ],
      "metadata": {
        "id": "05eUSDSY_ftA"
      },
      "execution_count": null,
      "outputs": []
    },
    {
      "cell_type": "markdown",
      "source": [],
      "metadata": {
        "id": "_DhtWx_aGmje"
      }
    }
  ]
}