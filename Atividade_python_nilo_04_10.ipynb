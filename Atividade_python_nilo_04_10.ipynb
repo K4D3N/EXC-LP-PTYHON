{
  "nbformat": 4,
  "nbformat_minor": 0,
  "metadata": {
    "colab": {
      "provenance": [],
      "authorship_tag": "ABX9TyOXGGRRf8xr2qX61OpPfWVn",
      "include_colab_link": true
    },
    "kernelspec": {
      "name": "python3",
      "display_name": "Python 3"
    },
    "language_info": {
      "name": "python"
    }
  },
  "cells": [
    {
      "cell_type": "markdown",
      "metadata": {
        "id": "view-in-github",
        "colab_type": "text"
      },
      "source": [
        "<a href=\"https://colab.research.google.com/github/K4D3N/EXC-LP-PTYHON/blob/main/Atividade_python_nilo_04_10.ipynb\" target=\"_parent\"><img src=\"https://colab.research.google.com/assets/colab-badge.svg\" alt=\"Open In Colab\"/></a>"
      ]
    },
    {
      "cell_type": "markdown",
      "source": [
        "# **Atividade_python-nilo_04-10**\n",
        "\n",
        "\n",
        "Escreva um programa que calcule o preço a pagar pelo fornecimento de energia elétrica. Pergunte a quantidade de kWh consumida e o tipo de instalação: R para residências, I para indústrias e C para comércios. Calcule o preço a pagar de acordo com a tabela a seguir."
      ],
      "metadata": {
        "id": "ZlVo9m3__dsG"
      }
    },
    {
      "cell_type": "code",
      "source": [
        "consumo_kWh = float(input('Informe a quantidade de kWh consumida:\\n' ))\n",
        "tipo_instalacao = input('Escolha a opção conforme o tipo de Instalação:\\nR - Residências\\nI - Indústria\\nC - Comércio:\\n' )\n",
        "\n",
        "\n",
        "if tipo_instalacao == 'R':\n",
        "  if consumo_kWh <= 180:\n",
        "     custo = 0.50\n",
        "  else:\n",
        "      custo = 0.65\n",
        "elif tipo_instalacao == 'I':\n",
        "  if consumo_kWh <= 1800:\n",
        "     custo = 0.20\n",
        "  else:\n",
        "      custo = 0.35\n",
        "elif tipo_instalacao == 'C':\n",
        "  if consumo_kWh <= 480:\n",
        "     custo = 0.35\n",
        "  else:\n",
        "      custo = 0.50\n",
        "else:\n",
        "    custo == 0\n",
        "    print('Erro! Instalação Desconhecida!')\n",
        "    while tipo_instalacao !='R' or tipo_instalacao !='I' or tipo_instalacao !='C':\n",
        "        consumo_kWh = float(input('Informe a quantidade de kWh consumida:\\n' ))\n",
        "        tipo_instalacao = input('Escolha a opção conforme o tipo de Instalação:\\nR - Residências\\nI - Indústria\\nC - Comércio:\\n' )\n",
        "        break\n",
        "\n",
        "preco = custo*consumo_kWh\n",
        "print('O valor da sua conta de energia esse mês será: R${}'.format(preco))\n",
        "\n",
        "\n",
        "\n",
        "\n"
      ],
      "metadata": {
        "colab": {
          "base_uri": "https://localhost:8080/"
        },
        "id": "05eUSDSY_ftA",
        "outputId": "75c14b98-b7e9-4e17-cd3a-89704493087e"
      },
      "execution_count": 148,
      "outputs": [
        {
          "output_type": "stream",
          "name": "stdout",
          "text": [
            "Informe a quantidade de kWh consumida:\n",
            "100\n",
            "Escolha a opção conforme o tipo de Instalação:\n",
            "R - Residências\n",
            "I - Indústria\n",
            "C - Comércio:\n",
            "T\n",
            "Erro! Instalação Desconhecida!\n",
            "Informe a quantidade de kWh consumida:\n",
            "100\n",
            "Escolha a opção conforme o tipo de Instalação:\n",
            "R - Residências\n",
            "I - Indústria\n",
            "C - Comércio:\n",
            "Y\n",
            "O valor da sua conta de energia esse mês será: R$50.0\n"
          ]
        }
      ]
    },
    {
      "cell_type": "markdown",
      "source": [],
      "metadata": {
        "id": "_DhtWx_aGmje"
      }
    }
  ]
}